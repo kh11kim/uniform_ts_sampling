{
 "cells": [
  {
   "cell_type": "code",
   "execution_count": 2,
   "metadata": {},
   "outputs": [
    {
     "name": "stdout",
     "output_type": "stream",
     "text": [
      "Jupyter environment detected. Enabling Open3D WebVisualizer.\n",
      "[Open3D INFO] WebRTC GUI backend enabled.\n",
      "[Open3D INFO] WebRTCWindowSystem: HTTP handshake server disabled.\n"
     ]
    }
   ],
   "source": [
    "from pybullet_suite import *\n",
    "from kinjax import *\n",
    "from jax import jit, vmap\n",
    "import jax.numpy as jnp\n",
    "#import kdtree\n",
    "import open3d as o3d\n",
    "#from rot import ec"
   ]
  },
  {
   "cell_type": "code",
   "execution_count": 3,
   "metadata": {},
   "outputs": [
    {
     "name": "stdout",
     "output_type": "stream",
     "text": [
      "argv[0]=\n",
      "Robot name: panda\n"
     ]
    }
   ],
   "source": [
    "urdf = \"panda.urdf\"\n",
    "ee_link_name = \"panda_grasptarget\"\n",
    "world = BulletWorld(gui=False)\n",
    "panda = world.load_robot(Panda, \"panda\")\n",
    "dof = 7\n",
    "link_dict, joint_dict = get_link_joint_dict(urdf)\n",
    "fk = get_FK_fn(link_dict, joint_dict, dof, ee_link_name)\n",
    "fk_batch = get_FK_fn(link_dict, joint_dict, dof, ee_link_name, batch=True)\n",
    "jac = get_jacobian_fn(link_dict, joint_dict, dof, ee_link_name)\n",
    "jac_batch = get_jacobian_fn(link_dict, joint_dict, dof, ee_link_name, batch=True)"
   ]
  },
  {
   "cell_type": "code",
   "execution_count": 3,
   "metadata": {},
   "outputs": [],
   "source": [
    "grid_max = jnp.array([1, 1, 1.5, np.pi, np.pi, np.pi]) #xyzrpy\n",
    "grid_min = jnp.array([-1, -1, -0.5, -np.pi, -np.pi, -np.pi])\n",
    "num_grids = jnp.array([40, 40, 40, 12,12,12])\n",
    "grid_size = (grid_max - grid_min) / num_grids\n",
    "\n",
    "from jax import lax\n",
    "def mat2rpy(R):\n",
    "    def singular_case(R, sy): #cos(p) = 0\n",
    "        r = jnp.arctan2(-R[1,2], R[1,1])\n",
    "        p = jnp.arctan2(-R[2,0], sy)\n",
    "        y = 0.\n",
    "        return jnp.array([r, p, y])\n",
    "    def normal_case(R, sy):\n",
    "        r = jnp.arctan2(R[2,1] , R[2,2])\n",
    "        p = jnp.arctan2(-R[2,0], sy)\n",
    "        y = jnp.arctan2(R[1,0], R[0,0])\n",
    "        return jnp.array([r, p, y])\n",
    "    sy = jnp.sqrt(R[2,1]**2 + R[2,2]**2)\n",
    "    return lax.cond(sy < 1e-6, singular_case, normal_case, R, sy)\n",
    "    \n",
    "def to_pose_vec(pose_mat):\n",
    "    return jnp.hstack([pose_mat[:3, -1], mat2rpy(pose_mat[:3, :3])])\n",
    "    \n",
    "def get_grid_index(pose_mat):\n",
    "    pose_vec = to_pose_vec(pose_mat)\n",
    "    grid_index = (pose_vec - grid_min) // grid_size\n",
    "    return grid_index.astype(int)\n",
    "\n",
    "get_grid_index_batch = jit(vmap(get_grid_index))\n",
    "\n",
    "def get_manipulability_batch(joints):\n",
    "    poses = fk_batch(joints)\n",
    "    jacs = jac_batch(joints)\n",
    "    manips = jnp.sqrt(jnp.linalg.det(jnp.einsum(\"ijk,ilk->ijl\", jacs, jacs)))\n",
    "    indexes = get_grid_index_batch(poses)\n",
    "    return indexes, manips\n",
    "get_manipulability_batch = jit(get_manipulability_batch)"
   ]
  },
  {
   "cell_type": "code",
   "execution_count": 4,
   "metadata": {},
   "outputs": [],
   "source": [
    "grids = {}"
   ]
  },
  {
   "cell_type": "code",
   "execution_count": 7,
   "metadata": {},
   "outputs": [
    {
     "data": {
      "text/plain": [
       "array([[13, 29, 17,  7,  4,  9],\n",
       "       [18,  1, 21,  7,  7,  4],\n",
       "       [10, 17, 14,  8,  7,  8],\n",
       "       ...,\n",
       "       [10, 14, 17, 10,  5,  3],\n",
       "       [20, 13, 12,  0,  6,  9],\n",
       "       [ 7, 11, 28,  5,  4,  8]], dtype=int32)"
      ]
     },
     "execution_count": 7,
     "metadata": {},
     "output_type": "execute_result"
    }
   ],
   "source": [
    "indexes"
   ]
  },
  {
   "cell_type": "code",
   "execution_count": 6,
   "metadata": {},
   "outputs": [
    {
     "name": "stdout",
     "output_type": "stream",
     "text": [
      "1.8072679042816162\n",
      "iter:0  updated:157008\n",
      "1.80245041847229\n",
      "iter:1  updated:150246\n",
      "1.7968928813934326\n",
      "iter:2  updated:144306\n"
     ]
    },
    {
     "ename": "KeyboardInterrupt",
     "evalue": "",
     "output_type": "error",
     "traceback": [
      "\u001b[0;31m---------------------------------------------------------------------------\u001b[0m",
      "\u001b[0;31mKeyboardInterrupt\u001b[0m                         Traceback (most recent call last)",
      "\u001b[0;32m/tmp/ipykernel_99824/1419615210.py\u001b[0m in \u001b[0;36m<module>\u001b[0;34m\u001b[0m\n\u001b[1;32m     13\u001b[0m     \u001b[0;32mfor\u001b[0m \u001b[0mi\u001b[0m \u001b[0;32min\u001b[0m \u001b[0mrange\u001b[0m\u001b[0;34m(\u001b[0m\u001b[0mlen\u001b[0m\u001b[0;34m(\u001b[0m\u001b[0mjoints\u001b[0m\u001b[0;34m)\u001b[0m\u001b[0;34m)\u001b[0m\u001b[0;34m:\u001b[0m\u001b[0;34m\u001b[0m\u001b[0;34m\u001b[0m\u001b[0m\n\u001b[1;32m     14\u001b[0m         \u001b[0mindex\u001b[0m \u001b[0;34m=\u001b[0m \u001b[0mtuple\u001b[0m\u001b[0;34m(\u001b[0m\u001b[0mindexes\u001b[0m\u001b[0;34m[\u001b[0m\u001b[0mi\u001b[0m\u001b[0;34m]\u001b[0m\u001b[0;34m.\u001b[0m\u001b[0mtolist\u001b[0m\u001b[0;34m(\u001b[0m\u001b[0;34m)\u001b[0m\u001b[0;34m)\u001b[0m\u001b[0;34m\u001b[0m\u001b[0;34m\u001b[0m\u001b[0m\n\u001b[0;32m---> 15\u001b[0;31m         \u001b[0;32mif\u001b[0m \u001b[0mindex\u001b[0m \u001b[0;32mnot\u001b[0m \u001b[0;32min\u001b[0m \u001b[0mgrids\u001b[0m\u001b[0;34m:\u001b[0m \u001b[0;31m#new grid\u001b[0m\u001b[0;34m\u001b[0m\u001b[0;34m\u001b[0m\u001b[0m\n\u001b[0m\u001b[1;32m     16\u001b[0m             \u001b[0mgrids\u001b[0m\u001b[0;34m[\u001b[0m\u001b[0mindex\u001b[0m\u001b[0;34m]\u001b[0m \u001b[0;34m=\u001b[0m \u001b[0;34m{\u001b[0m\u001b[0;34m}\u001b[0m\u001b[0;34m\u001b[0m\u001b[0;34m\u001b[0m\u001b[0m\n\u001b[1;32m     17\u001b[0m             \u001b[0mgrids\u001b[0m\u001b[0;34m[\u001b[0m\u001b[0mindex\u001b[0m\u001b[0;34m]\u001b[0m\u001b[0;34m[\u001b[0m\u001b[0;34m\"num\"\u001b[0m\u001b[0;34m]\u001b[0m \u001b[0;34m=\u001b[0m \u001b[0;36m0\u001b[0m\u001b[0;34m\u001b[0m\u001b[0;34m\u001b[0m\u001b[0m\n",
      "\u001b[0;31mKeyboardInterrupt\u001b[0m: "
     ]
    }
   ],
   "source": [
    "import time\n",
    "for iter in range(1000):\n",
    "    updated = 0\n",
    "    \n",
    "    #sample\n",
    "    joints = jnp.array(np.random.uniform(panda.joint_lower_limit, panda.joint_upper_limit, (1000000, 7)))\n",
    "    indexes, manips = get_manipulability_batch(joints)\n",
    "    manips = jnp.nan_to_num(manips)\n",
    "    indexes, manips = np.array(indexes), np.array(manips)\n",
    "\n",
    "    #grid_num_before = len(grids)\n",
    "    tic = time.time()\n",
    "    for i in range(len(joints)):\n",
    "        index = tuple(indexes[i].tolist())\n",
    "        if index not in grids: #new grid\n",
    "            grids[index] = {}\n",
    "            grids[index][\"num\"] = 0\n",
    "            grids[index][\"sum\"] = 0.\n",
    "            updated += 1\n",
    "        \n",
    "        #if grids[index] < manips[i]:\n",
    "        #manip = jnp.nan_to_num(manips[i].item())\n",
    "        grids[index][\"sum\"] += manips[i]\n",
    "        grids[index][\"num\"] += 1\n",
    "        \n",
    "    print(time.time()-tic)\n",
    "    #grid_num_after = len(grids)\n",
    "    print(f\"iter:{iter}  updated:{updated}\") #, num_grid:{grid_num_after}, filled_grids:{grid_num_after - grid_num_before}\")"
   ]
  },
  {
   "cell_type": "code",
   "execution_count": 58,
   "metadata": {},
   "outputs": [
    {
     "data": {
      "text/plain": [
       "Array(110592000, dtype=int32)"
      ]
     },
     "execution_count": 58,
     "metadata": {},
     "output_type": "execute_result"
    }
   ],
   "source": [
    "jnp.prod(num_grids)"
   ]
  },
  {
   "cell_type": "code",
   "execution_count": 19,
   "metadata": {},
   "outputs": [],
   "source": [
    "import pickle\n",
    "with open(\"manip_grid_avg_12.pkl\", \"wb\") as f:\n",
    "    pickle.dump(grids, f)"
   ]
  },
  {
   "cell_type": "code",
   "execution_count": 18,
   "metadata": {},
   "outputs": [
    {
     "data": {
      "text/plain": [
       "<matplotlib.image.AxesImage at 0x7ef4a1ff7af0>"
      ]
     },
     "execution_count": 18,
     "metadata": {},
     "output_type": "execute_result"
    },
    {
     "data": {
      "image/png": "[encoded data removed]",
      "text/plain": [
       "<Figure size 504x1008 with 2 Axes>"
      ]
     },
     "metadata": {
      "needs_background": "light"
     },
     "output_type": "display_data"
    }
   ],
   "source": [
    "import matplotlib.pyplot as plt\n",
    "\n",
    "x_range, y_range = range(40), range(40)\n",
    "z = 20\n",
    "roll, pitch, yaw = 0, 3, 0\n",
    "\n",
    "manip_map = np.zeros((40,40))\n",
    "reach_map = np.zeros((40,40))\n",
    "for x in x_range:\n",
    "    for y in y_range:\n",
    "        key = (x, y, z, roll, pitch, yaw)\n",
    "        if key not in grids: \n",
    "            #print(f\"{x,y}\")\n",
    "            continue\n",
    "        manip_map[x, y] = grids[key][\"sum\"]/ grids[key][\"num\"]\n",
    "        reach_map[x, y] = grids[key][\"num\"]\n",
    "        if grids[key][\"num\"] == 1: #. and grids[key][\"num\"] != 0:\n",
    "            pass #print(f\"{x,y}\")\n",
    "\n",
    "fig, axes = plt.subplots(1, 2, figsize=[7, 14])\n",
    "bar = axes[0].imshow(manip_map, cmap=\"Blues\")\n",
    "axes[1].imshow(reach_map, cmap=\"Reds\")\n",
    "#plt.colorbar(bar)"
   ]
  },
  {
   "cell_type": "code",
   "execution_count": 61,
   "metadata": {},
   "outputs": [
    {
     "data": {
      "text/plain": [
       "(20, 20, 20, 0, 3, 0)"
      ]
     },
     "execution_count": 61,
     "metadata": {},
     "output_type": "execute_result"
    }
   ],
   "source": [
    "key"
   ]
  },
  {
   "cell_type": "code",
   "execution_count": 85,
   "metadata": {},
   "outputs": [
    {
     "data": {
      "text/plain": [
       "Text(0, 0.5, 'yaw')"
      ]
     },
     "execution_count": 85,
     "metadata": {},
     "output_type": "execute_result"
    },
    {
     "data": {
      "image/png": "[encoded data removed]",
      "text/plain": [
       "<Figure size 504x1008 with 2 Axes>"
      ]
     },
     "metadata": {
      "needs_background": "light"
     },
     "output_type": "display_data"
    }
   ],
   "source": [
    "import matplotlib.pyplot as plt\n",
    "\n",
    "x, y, z = 22, 23, 25\n",
    "roll_range, pitch, yaw_range = range(8), 2, range(8)\n",
    "\n",
    "manip_map = np.zeros((8,8))\n",
    "reach_map = np.zeros((8,8))\n",
    "for roll in roll_range:\n",
    "    for yaw in yaw_range:\n",
    "        key = (x, y, z, roll, pitch, yaw)\n",
    "        if key not in grids: \n",
    "            #print(f\"{x,y}\")\n",
    "            continue\n",
    "        manip_map[roll, yaw] = grids[key][\"sum\"]/ grids[key][\"num\"]\n",
    "        reach_map[roll, yaw] = grids[key][\"num\"]\n",
    "        if grids[key][\"num\"] == 1: #. and grids[key][\"num\"] != 0:\n",
    "            pass #print(f\"{x,y}\")\n",
    "\n",
    "fig, axes = plt.subplots(1, 2, figsize=[7, 14])\n",
    "bar = axes[0].imshow(manip_map, cmap=\"Blues\")\n",
    "axes[1].imshow(reach_map, cmap=\"Reds\")\n",
    "axes[0].set_xlabel(\"roll\")\n",
    "axes[0].set_ylabel(\"yaw\")\n",
    "#plt.colorbar(bar)"
   ]
  },
  {
   "cell_type": "code",
   "execution_count": 30,
   "metadata": {},
   "outputs": [
    {
     "data": {
      "text/plain": [
       "[<matplotlib.lines.Line2D at 0x7f074c3698b0>]"
      ]
     },
     "execution_count": 30,
     "metadata": {},
     "output_type": "execute_result"
    },
    {
     "data": {
      "image/png": "[encoded data removed]",
      "text/plain": [
       "<Figure size 432x288 with 1 Axes>"
      ]
     },
     "metadata": {
      "needs_background": "light"
     },
     "output_type": "display_data"
    }
   ],
   "source": [
    "import matplotlib.pyplot as plt\n",
    "plt.plot(manips)"
   ]
  },
  {
   "cell_type": "code",
   "execution_count": null,
   "metadata": {},
   "outputs": [],
   "source": []
  },
  {
   "cell_type": "code",
   "execution_count": 31,
   "metadata": {},
   "outputs": [
    {
     "data": {
      "text/plain": [
       "Array([27, 22, 26,  0,  3,  3], dtype=int32)"
      ]
     },
     "execution_count": 31,
     "metadata": {},
     "output_type": "execute_result"
    }
   ],
   "source": [
    "get_grid_index(fk(joints[6]), grid_min, grid_size)"
   ]
  },
  {
   "cell_type": "code",
   "execution_count": 3,
   "metadata": {},
   "outputs": [],
   "source": [
    "class FKSampler:\n",
    "    def __init__(self, fk, fk_batch):\n",
    "        self.data = {}\n",
    "        self.tree = kdtree.create(dimensions=7)\n",
    "        self.fk = fk\n",
    "        self.fk_batch = fk_batch\n",
    "        #self.fk_batch = ji\n",
    "\n",
    "    def add(self, q):\n",
    "        if tuple(q) in  self.data: return\n",
    "        self.tree.add(q)\n",
    "        T = self.fk(q)\n",
    "        self.data[tuple(q)] = (T,)\n",
    "    \n",
    "    def pose_distance(self, q1, q2, weight=0.3):\n",
    "        def angle(R1, R2):\n",
    "            R = R1.T@R2\n",
    "            return jnp.arccos((jnp.trace(R) - 1) / 2)\n",
    "        def norm(x1, x2):\n",
    "            return jnp.linalg.norm(x1-x2)\n",
    "        T1, T2 = self.fk_batch(jnp.vstack([q1, q2]))\n",
    "        return norm(T1[:3, -1], T2[:3, -1]) + weight * angle(T1[:3, :3], T2[:3, :3])\n",
    "    \n",
    "    def nearest(self, q):\n",
    "        return self.tree.search_nn(q)[0].data\n",
    "\n",
    "    def dense_resampling(self, q1, q2, min_dist=0.2, metric_fn=None):\n",
    "        if metric_fn is None:\n",
    "            metric_fn = self.pose_distance\n",
    "        self.add(q1)\n",
    "        self.add(q2)\n",
    "        if metric_fn(q1, q2) > min_dist:\n",
    "            qmid = (q1 + q2) / 2\n",
    "            self.dense_resampling(q1, qmid)\n",
    "            self.dense_resampling(qmid, q2)"
   ]
  },
  {
   "cell_type": "code",
   "execution_count": null,
   "metadata": {},
   "outputs": [],
   "source": [
    "world = BulletWorld(gui=True)\n",
    "panda = world.load_robot(Panda, \"panda\")\n",
    "sm = BulletSceneMaker(world)"
   ]
  },
  {
   "cell_type": "code",
   "execution_count": 71,
   "metadata": {},
   "outputs": [],
   "source": [
    "table = {}"
   ]
  },
  {
   "cell_type": "code",
   "execution_count": null,
   "metadata": {},
   "outputs": [],
   "source": [
    "def get_index(poses):\n",
    "    xyzrot = "
   ]
  },
  {
   "cell_type": "code",
   "execution_count": 68,
   "metadata": {},
   "outputs": [],
   "source": [
    "joints = jnp.array(np.random.uniform(panda.joint_lower_limit, panda.joint_upper_limit, size=(1000,7)))\n",
    "Ts = fk_batch(joints)\n",
    "jacs = jac_batch(joints)\n",
    "manip = jnp.sqrt(jnp.linalg.det(jacs @ jacs.swapaxes(2, 1)))\n",
    "manip = np.array(manip)\n",
    "manip[np.isnan(manip)] = 0."
   ]
  },
  {
   "cell_type": "code",
   "execution_count": null,
   "metadata": {},
   "outputs": [],
   "source": []
  },
  {
   "cell_type": "code",
   "execution_count": 69,
   "metadata": {},
   "outputs": [],
   "source": [
    "colors = np.zeros((len(manip), 3))\n",
    "colors[:,0] = manip / np.max(manip)"
   ]
  },
  {
   "cell_type": "code",
   "execution_count": 70,
   "metadata": {},
   "outputs": [],
   "source": [
    "pc = o3d.geometry.PointCloud(o3d.utility.Vector3dVector(points))\n",
    "pc.normals = o3d.utility.Vector3dVector(zs)\n",
    "pc.colors = o3d.utility.Vector3dVector(colors)\n",
    "o3d.visualization.draw_geometries([pc])"
   ]
  },
  {
   "cell_type": "code",
   "execution_count": null,
   "metadata": {},
   "outputs": [],
   "source": []
  },
  {
   "cell_type": "code",
   "execution_count": null,
   "metadata": {},
   "outputs": [],
   "source": [
    "sampler = FKSampler(fk, fk_batch)\n",
    "q1 = panda.get_random_config()\n",
    "sampler.add(q1)\n",
    "\n",
    "while len(sampler.data) < 10000:\n",
    "    print(len(sampler.data))\n",
    "    q_rand = panda.get_random_config()\n",
    "    q_near = sampler.nearest(q_rand)\n",
    "    sampler.dense_resampling(q_near, q_rand)"
   ]
  },
  {
   "cell_type": "code",
   "execution_count": 44,
   "metadata": {},
   "outputs": [],
   "source": [
    "q_rand = panda.get_random_config()\n",
    "q_near = sampler.nearest(q_rand)"
   ]
  },
  {
   "cell_type": "code",
   "execution_count": null,
   "metadata": {},
   "outputs": [],
   "source": []
  },
  {
   "cell_type": "code",
   "execution_count": 8,
   "metadata": {},
   "outputs": [],
   "source": [
    "for i, q in enumerate(sampler.data.keys()):\n",
    "    pose = Pose.from_matrix(np.array(sampler.data[tuple(q)][0]))\n",
    "    sm.view_point(pose.trans, f\"{i}\")"
   ]
  },
  {
   "cell_type": "code",
   "execution_count": null,
   "metadata": {},
   "outputs": [],
   "source": [
    "for frame in list(world.frames.keys()):\n",
    "    sm.remove_frame(frame)\n",
    "for point in list(world.bodies.keys()):\n",
    "    sm.remove_frame(frame)"
   ]
  },
  {
   "cell_type": "code",
   "execution_count": 177,
   "metadata": {},
   "outputs": [],
   "source": [
    "for frame in list(world.frames.keys()):\n",
    "    sm.remove_frame(frame)"
   ]
  },
  {
   "cell_type": "code",
   "execution_count": 174,
   "metadata": {},
   "outputs": [],
   "source": [
    "q_rand = panda.get_random_config()\n",
    "q_near = sampler.nearest(q_rand)\n",
    "for i, q in enumerate(np.linspace(q_rand, q_near, 20)):\n",
    "    pose = Pose.from_matrix(np.array(fk(q)))\n",
    "    sm.view_frame(pose, f\"{i}\")"
   ]
  },
  {
   "cell_type": "code",
   "execution_count": 187,
   "metadata": {},
   "outputs": [],
   "source": [
    "n_samples = 100\n",
    "points = np.random.random((10000, 7))\n",
    "points_left = np.arange(len(points))\n",
    "sample_inds = np.zeros(n_samples, dtype=\"int\")\n",
    "\n",
    "dists = np.ones_like(points_left) * float('inf')\n",
    "selected = 0\n",
    "sample_inds[0] = points_left[selected]\n",
    "points_left = np.delete(points_left, selected)"
   ]
  },
  {
   "cell_type": "code",
   "execution_count": 4,
   "metadata": {},
   "outputs": [],
   "source": [
    "def _fps(points, n_samples):\n",
    "    \"\"\"\n",
    "    points: [N, 3] array containing the whole point cloud\n",
    "    n_samples: samples you want in the sampled point cloud typically << N \n",
    "    \"\"\"\n",
    "    # init\n",
    "    points_left = jnp.ones(len(points)).astype(bool) #boolean index\n",
    "    sample_inds = jnp.zeros(n_samples).astype(int)\n",
    "    dists = jnp.ones_like(points_left) * float('inf') # [P]\n",
    "\n",
    "    # Select a point from points by its index, save it\n",
    "    selected = 0\n",
    "    sample_inds = sample_inds.at[0].set(selected)\n",
    "    points_left = points_left.at[selected].set(False)\n",
    "\n",
    "    for i in range(n_samples):\n",
    "        last_added = sample_inds[i-1]\n",
    "        dist_to_last_added_point = jnp.linalg.norm(points[last_added] - points, axis=-1)\n",
    "        update_cond = jnp.bitwise_and(dist_to_last_added_point < dists, points_left)\n",
    "        dists = jnp.where(update_cond, dist_to_last_added_point, dists)\n",
    "        selected = np.argmax(jnp.where(points_left, dists, jnp.zeros_like(dists)))\n",
    "        sample_inds = sample_inds.at[i].set(selected)\n",
    "        points_left = points_left.at[selected].set(False)\n",
    "    return points[sample_inds]\n",
    "\n",
    "_fps = jit(_fps, static_argnums=1)\n",
    "def fps(points, n_samples, batch_size=100):\n",
    "    n_batch = n_samples // batch_size\n",
    "    batch_sizes = [batch_size]*n_batch\n",
    "    batch_sizes += [n_samples - np.sum(batch_sizes)]\n",
    "    steps = [0, *np.cumsum(batch_sizes)]\n",
    "    for i in range(len(steps[:-1])):\n",
    "        start, end = steps[i], steps[i+1] \n",
    "        _fps(points[start:end], end-start)"
   ]
  },
  {
   "cell_type": "code",
   "execution_count": 9,
   "metadata": {},
   "outputs": [
    {
     "data": {
      "text/plain": [
       "array([ 100,  200,  300,  400,  500,  600,  700,  800,  900, 1000, 1024])"
      ]
     },
     "execution_count": 9,
     "metadata": {},
     "output_type": "execute_result"
    }
   ],
   "source": [
    "n_samples = 1024\n",
    "batch_size = 100\n",
    "n_batch = n_samples // batch_size\n",
    "batch_sizes = [batch_size]*n_batch\n",
    "batch_sizes += [n_samples - np.sum(batch_sizes)]\n",
    "np.cumsum(batch_sizes)"
   ]
  },
  {
   "cell_type": "code",
   "execution_count": 10,
   "metadata": {},
   "outputs": [],
   "source": [
    "points = jnp.array(np.random.random((100000,2)))\n",
    "n_samples = 100\n",
    "sampled = jit(_fps, static_argnums=1)(points, n_samples)"
   ]
  },
  {
   "cell_type": "code",
   "execution_count": 6,
   "metadata": {},
   "outputs": [
    {
     "name": "stdout",
     "output_type": "stream",
     "text": [
      "125 µs ± 1.54 µs per loop (mean ± std. dev. of 7 runs, 10000 loops each)\n"
     ]
    }
   ],
   "source": [
    "%timeit jit(fps, static_argnums=1)(points, n_samples)"
   ]
  },
  {
   "cell_type": "code",
   "execution_count": 6,
   "metadata": {},
   "outputs": [],
   "source": [
    "sampled = fps(points, 1000)"
   ]
  },
  {
   "cell_type": "code",
   "execution_count": 9,
   "metadata": {},
   "outputs": [],
   "source": [
    "import matplotlib.pyplot as plt"
   ]
  },
  {
   "cell_type": "code",
   "execution_count": 10,
   "metadata": {},
   "outputs": [
    {
     "data": {
      "text/plain": [
       "<matplotlib.collections.PathCollection at 0x7f5f481a45e0>"
      ]
     },
     "execution_count": 10,
     "metadata": {},
     "output_type": "execute_result"
    },
    {
     "data": {
      "image/png": "[encoded data removed]",
      "text/plain": [
       "<Figure size 432x288 with 1 Axes>"
      ]
     },
     "metadata": {
      "needs_background": "light"
     },
     "output_type": "display_data"
    }
   ],
   "source": [
    "plt.scatter(*sampled.T)"
   ]
  },
  {
   "cell_type": "code",
   "execution_count": null,
   "metadata": {},
   "outputs": [],
   "source": [
    "for i in range(1, n_samples):\n",
    "    last_added = sample_inds[i-1]\n",
    "    dist_to_last_added_point = jnp.linalg.norm(points[last_added] - points[points_left], axis=-1)\n",
    "    updates = jnp.minimum(dist_to_last_added_point, dists[points_left])\n",
    "    dists = dists.at[points_left].set(updates)\n",
    "    selected = jnp.argmax(dists[points_left])\n",
    "    sample_inds = sample_inds.at[i].set(points_left[selected])\n",
    "    points_left = jnp.delete(points_left, selected)"
   ]
  },
  {
   "cell_type": "code",
   "execution_count": 64,
   "metadata": {},
   "outputs": [
    {
     "name": "stdout",
     "output_type": "stream",
     "text": [
      "0\n",
      "1\n",
      "2\n",
      "3\n",
      "4\n",
      "5\n",
      "6\n",
      "7\n",
      "8\n",
      "9\n",
      "10\n",
      "11\n",
      "12\n",
      "13\n",
      "14\n",
      "15\n",
      "16\n",
      "17\n",
      "18\n",
      "19\n",
      "20\n",
      "21\n",
      "22\n",
      "23\n",
      "24\n",
      "25\n",
      "26\n",
      "27\n",
      "28\n",
      "29\n",
      "30\n",
      "31\n",
      "32\n",
      "33\n",
      "34\n",
      "35\n",
      "36\n",
      "37\n",
      "38\n",
      "39\n",
      "40\n",
      "41\n",
      "42\n",
      "43\n",
      "44\n",
      "45\n",
      "46\n",
      "47\n",
      "48\n",
      "49\n",
      "50\n",
      "51\n",
      "52\n",
      "53\n",
      "54\n",
      "55\n",
      "56\n",
      "57\n",
      "58\n",
      "59\n",
      "60\n",
      "61\n",
      "62\n",
      "63\n",
      "64\n",
      "65\n",
      "66\n",
      "67\n",
      "68\n",
      "69\n",
      "70\n",
      "71\n",
      "72\n",
      "73\n",
      "74\n",
      "75\n",
      "76\n",
      "77\n",
      "78\n",
      "79\n",
      "80\n",
      "81\n",
      "82\n",
      "83\n",
      "84\n",
      "85\n",
      "86\n",
      "87\n",
      "88\n",
      "89\n",
      "90\n",
      "91\n",
      "92\n",
      "93\n",
      "94\n",
      "95\n",
      "96\n",
      "97\n",
      "98\n",
      "99\n"
     ]
    }
   ],
   "source": [
    "points = jnp.array(np.random.random((10000,2)))\n",
    "n_samples = 100\n",
    "\n",
    "# init\n",
    "points_left = jnp.ones(len(points)).astype(bool) #boolean index\n",
    "sample_inds = jnp.zeros(n_samples).astype(int)\n",
    "dists = jnp.ones_like(points_left) * float('inf') # [P]\n",
    "\n",
    "# Select a point from points by its index, save it\n",
    "selected = 0\n",
    "sample_inds = sample_inds.at[0].set(selected)\n",
    "points_left = points_left.at[selected].set(False)\n",
    "\n",
    "for i in range(n_samples):\n",
    "    print(i)\n",
    "    last_added = sample_inds[i-1]\n",
    "    dist_to_last_added_point = jnp.linalg.norm(points[last_added] - points, axis=-1)\n",
    "    update_cond = jnp.bitwise_and(dist_to_last_added_point < dists, points_left)\n",
    "    dists = jnp.where(update_cond, dist_to_last_added_point, dists)\n",
    "    selected = np.argmax(jnp.where(points_left, dists, jnp.zeros_like(dists)))\n",
    "    sample_inds = sample_inds.at[i].set(selected)\n",
    "    points_left = points_left.at[selected].set(False)"
   ]
  },
  {
   "cell_type": "code",
   "execution_count": null,
   "metadata": {},
   "outputs": [],
   "source": [
    "# points_left = points_left.at[selected].set(False)\n",
    "\n",
    "# Iteratively select points for a maximum of n_samples\n",
    "#for i in range(1, n_samples):\n",
    "i = 1\n",
    "last_added = sample_inds[i-1]\n",
    "dist_to_last_added_point = jnp.linalg.norm(points[last_added] - points, axis=-1)\n",
    "\n",
    "updates = jnp.minimum(dist_to_last_added_point, dists)\n",
    "jnp.where(dist_to_last_added_point < dists[points_left], dist_to_last_added_point)\n",
    "dists = dists.at[points_left].set(updates)\n",
    "selected = np.argmax(dists[points_left])\n",
    "sample_inds = sample_inds.at[i].set(points_left[selected])\n",
    "points_left = points_left.at[selected].set(False)\n",
    "return points[sample_inds]"
   ]
  },
  {
   "cell_type": "code",
   "execution_count": 50,
   "metadata": {},
   "outputs": [
    {
     "data": {
      "text/plain": [
       "Array([0.28072256, 0.        , 0.8130836 , ..., 0.724894  , 0.6238547 ,\n",
       "       0.15327685], dtype=float32)"
      ]
     },
     "execution_count": 50,
     "metadata": {},
     "output_type": "execute_result"
    }
   ],
   "source": [
    "updates"
   ]
  },
  {
   "cell_type": "code",
   "execution_count": 49,
   "metadata": {},
   "outputs": [
    {
     "data": {
      "text/plain": [
       "Array([0.28072256, 0.        , 0.8130836 , ..., 0.724894  , 0.6238547 ,\n",
       "       0.15327685], dtype=float32)"
      ]
     },
     "execution_count": 49,
     "metadata": {},
     "output_type": "execute_result"
    }
   ],
   "source": [
    "updates"
   ]
  },
  {
   "cell_type": "code",
   "execution_count": 34,
   "metadata": {},
   "outputs": [
    {
     "data": {
      "text/plain": [
       "_IndexUpdateRef(Array([inf, inf, inf, ..., inf, inf, inf], dtype=float32, weak_type=True), Array([False,  True,  True, ...,  True,  True,  True], dtype=bool))"
      ]
     },
     "execution_count": 34,
     "metadata": {},
     "output_type": "execute_result"
    }
   ],
   "source": [
    "dists.at[points_left]"
   ]
  },
  {
   "cell_type": "code",
   "execution_count": 33,
   "metadata": {},
   "outputs": [
    {
     "data": {
      "text/plain": [
       "Array([False,  True,  True, ...,  True,  True,  True], dtype=bool)"
      ]
     },
     "execution_count": 33,
     "metadata": {},
     "output_type": "execute_result"
    }
   ],
   "source": [
    "points_left"
   ]
  },
  {
   "cell_type": "code",
   "execution_count": 21,
   "metadata": {},
   "outputs": [
    {
     "data": {
      "text/plain": [
       "Array([   0,  927, 4982, 6479,  306, 4060, 3035, 8576, 2044, 4176, 6317,\n",
       "          0,    0,    0,    0,    0,    0,    0,    0,    0,    0,    0,\n",
       "          0,    0,    0,    0,    0,    0,    0,    0,    0,    0,    0,\n",
       "          0,    0,    0,    0,    0,    0,    0,    0,    0,    0,    0,\n",
       "          0,    0,    0,    0,    0,    0,    0,    0,    0,    0,    0,\n",
       "          0,    0,    0,    0,    0,    0,    0,    0,    0,    0,    0,\n",
       "          0,    0,    0,    0,    0,    0,    0,    0,    0,    0,    0,\n",
       "          0,    0,    0,    0,    0,    0,    0,    0,    0,    0,    0,\n",
       "          0,    0,    0,    0,    0,    0,    0,    0,    0,    0,    0,\n",
       "          0], dtype=int32)"
      ]
     },
     "execution_count": 21,
     "metadata": {},
     "output_type": "execute_result"
    }
   ],
   "source": [
    "last_added = sample_inds[i-1]\n",
    "dist_to_last_added_point = jnp.linalg.norm(points[last_added] - points[points_left], axis=-1)\n",
    "updates = jnp.minimum(dist_to_last_added_point, dists[points_left])\n",
    "dists = dists.at[points_left].set(updates)\n",
    "selected = jnp.argmax(dists[points_left])\n",
    "sample_inds = sample_inds.at[i].set(points_left[selected])\n",
    "#points_left = jnp.delete(points_left, selected)\n",
    "i += 1\n",
    "sample_inds"
   ]
  },
  {
   "cell_type": "code",
   "execution_count": 216,
   "metadata": {},
   "outputs": [
    {
     "name": "stdout",
     "output_type": "stream",
     "text": [
      "1\n",
      "2\n",
      "3\n",
      "4\n",
      "5\n",
      "6\n",
      "7\n",
      "8\n",
      "9\n",
      "10\n",
      "11\n",
      "12\n",
      "13\n",
      "14\n",
      "15\n"
     ]
    }
   ],
   "source": [
    "for i in range(1, n_samples):\n",
    "    last_added = sample_inds[i-1]\n",
    "    dist_to_last_added_point = jnp.linalg.norm(points[last_added] - points[points_left], axis=-1)\n",
    "    updates = jnp.minimum(dist_to_last_added_point, dists[points_left])\n",
    "    dists = dists.at[points_left].set(updates)\n",
    "    selected = jnp.argmax(dists[points_left])\n",
    "    sample_inds = sample_inds.at[i].set(points_left[selected])\n",
    "    points_left = jnp.delete(points_left, selected)"
   ]
  },
  {
   "cell_type": "code",
   "execution_count": 209,
   "metadata": {},
   "outputs": [
    {
     "data": {
      "text/plain": [
       "Array([       inf, 0.1865625 , 0.45844367, ..., 0.9644993 , 0.49169737,\n",
       "       0.7903657 ], dtype=float32, weak_type=True)"
      ]
     },
     "execution_count": 209,
     "metadata": {},
     "output_type": "execute_result"
    }
   ],
   "source": []
  },
  {
   "cell_type": "code",
   "execution_count": 210,
   "metadata": {},
   "outputs": [
    {
     "data": {
      "text/plain": [
       "Array([   1,    2,    3, ..., 9997, 9998, 9999], dtype=int32)"
      ]
     },
     "execution_count": 210,
     "metadata": {},
     "output_type": "execute_result"
    }
   ],
   "source": [
    "points_left"
   ]
  },
  {
   "cell_type": "code",
   "execution_count": null,
   "metadata": {},
   "outputs": [],
   "source": [
    "i = 1\n",
    "    # Find the distance to the last added point in selected\n",
    "    # and all the others\n",
    "    last_added = sample_inds[i-1]\n",
    "    \n",
    "    dist_to_last_added_point = jnp.linalg.norm(points[last_added] - points[points_left], axis=-1)\n",
    "\n",
    "    # If closer, updated distances\n",
    "    dists[points_left] = jnp.minimum(dist_to_last_added_point, \n",
    "                                        dists[points_left]) # [P - i]\n",
    "\n",
    "    # We want to pick the one that has the largest nearest neighbour\n",
    "    # distance to the sampled points\n",
    "    selected = np.argmax(dists[points_left])\n",
    "    sample_inds[i] = points_left[selected]\n",
    "\n",
    "    # Update points_left\n",
    "    points_left = np.delete(points_left, selected)"
   ]
  },
  {
   "cell_type": "code",
   "execution_count": 198,
   "metadata": {},
   "outputs": [
    {
     "data": {
      "text/plain": [
       "<matplotlib.collections.PathCollection at 0x7fa6b81e6970>"
      ]
     },
     "execution_count": 198,
     "metadata": {},
     "output_type": "execute_result"
    },
    {
     "data": {
      "image/png": "[encoded data removed]",
      "text/plain": [
       "<Figure size 432x288 with 1 Axes>"
      ]
     },
     "metadata": {
      "needs_background": "light"
     },
     "output_type": "display_data"
    }
   ],
   "source": [
    "import matplotlib.pyplot as plt\n",
    "plt.scatter(*points.T)"
   ]
  },
  {
   "cell_type": "code",
   "execution_count": 200,
   "metadata": {},
   "outputs": [
    {
     "data": {
      "text/plain": [
       "<matplotlib.collections.PathCollection at 0x7fa6b808da90>"
      ]
     },
     "execution_count": 200,
     "metadata": {},
     "output_type": "execute_result"
    },
    {
     "data": {
      "image/png": "[encoded data removed]",
      "text/plain": [
       "<Figure size 432x288 with 1 Axes>"
      ]
     },
     "metadata": {
      "needs_background": "light"
     },
     "output_type": "display_data"
    }
   ],
   "source": [
    "plt.scatter(*np.random.random((100,2)).T)"
   ]
  },
  {
   "cell_type": "code",
   "execution_count": 9,
   "metadata": {},
   "outputs": [],
   "source": [
    "q1 = panda.get_random_config()\n",
    "q2 = panda.get_random_config()\n",
    "qs = jnp.vstack([q1, q2])\n",
    "T1, T2 = fk_batch(qs)"
   ]
  },
  {
   "cell_type": "code",
   "execution_count": 11,
   "metadata": {},
   "outputs": [
    {
     "data": {
      "text/plain": [
       "Array([[ 0.3268735 ,  0.94070673,  0.09069017,  0.2847451 ],\n",
       "       [-0.06428745,  0.11787192, -0.9909457 , -0.8382619 ],\n",
       "       [-0.9428791 ,  0.31808355,  0.09900483,  0.40123323],\n",
       "       [ 0.        ,  0.        ,  0.        ,  1.        ]],      dtype=float32)"
      ]
     },
     "execution_count": 11,
     "metadata": {},
     "output_type": "execute_result"
    }
   ],
   "source": [
    "T2"
   ]
  }
 ],
 "metadata": {
  "interpreter": {
   "hash": "cd534b4b454fa7084d8571b95fc6b517faf626e77dca968738a58be695747536"
  },
  "kernelspec": {
   "display_name": "Python 3.8.0 ('opt_env')",
   "language": "python",
   "name": "python3"
  },
  "language_info": {
   "codemirror_mode": {
    "name": "ipython",
    "version": 3
   },
   "file_extension": ".py",
   "mimetype": "text/x-python",
   "name": "python",
   "nbconvert_exporter": "python",
   "pygments_lexer": "ipython3",
   "version": "3.8.16"
  },
  "orig_nbformat": 4
 },
 "nbformat": 4,
 "nbformat_minor": 2
}
