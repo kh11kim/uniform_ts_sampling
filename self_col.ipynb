{
 "cells": [
  {
   "cell_type": "code",
   "execution_count": 1,
   "metadata": {},
   "outputs": [
    {
     "name": "stderr",
     "output_type": "stream",
     "text": [
      "pybullet build time: Dec 14 2022 00:46:04\n"
     ]
    }
   ],
   "source": [
    "from jax import jit, vmap\n",
    "import jax.numpy as jnp\n",
    "from pybullet_suite import *"
   ]
  },
  {
   "cell_type": "code",
   "execution_count": 2,
   "metadata": {},
   "outputs": [],
   "source": [
    "import jax\n",
    "import os\n",
    "from pathlib import Path\n",
    "import trimesh\n",
    "import open3d as o3d\n",
    "import kinjax"
   ]
  },
  {
   "cell_type": "code",
   "execution_count": 3,
   "metadata": {},
   "outputs": [
    {
     "name": "stdout",
     "output_type": "stream",
     "text": [
      "argv[0]=\n",
      "Robot name: panda\n"
     ]
    }
   ],
   "source": [
    "# robot config\n",
    "urdf = \"panda.urdf\"\n",
    "ee_link_name = \"panda_grasptarget\"\n",
    "world = BulletWorld(gui=False)\n",
    "panda = world.load_robot(Panda, \"panda\")\n",
    "lb, ub = panda.joint_lower_limit, panda.joint_upper_limit\n",
    "dof = 7\n",
    "link_dict, joint_dict = kinjax.get_link_joint_dict(urdf)\n",
    "# fk = kinjax.get_FK_fn(link_dict, joint_dict, dof, ee_link_name)\n",
    "# jac = get_jacobian_fn(link_dict, joint_dict, dof, ee_link_name)"
   ]
  },
  {
   "cell_type": "code",
   "execution_count": 4,
   "metadata": {},
   "outputs": [],
   "source": [
    "def get_T_offset_lists(\n",
    "    link_dict: dict, joint_dict: dict, ee_link_name: str\n",
    "):\n",
    "    def get_tf_mat(rpy=[0,0,0], trans=[0,0,0]):\n",
    "        rot_mat = Rotation.from_euler(\"zyx\", rpy[::-1]).as_matrix()\n",
    "        rot_mat[np.abs(rot_mat) < 1e-9] = 0.\n",
    "        T = np.block([[rot_mat, np.array(trans)[:,None]], [0,0,0,1]])\n",
    "        return T\n",
    "    T_offset_list = []\n",
    "    \n",
    "    # Compute the transformation matrices between the base link and the end effector link\n",
    "    link_name = ee_link_name \n",
    "    while True:\n",
    "        if \"parent_joint\" not in link_dict[link_name]:  \n",
    "            break\n",
    "        parent_joint_name = link_dict[link_name][\"parent_joint\"]\n",
    "        parent_joint = joint_dict[parent_joint_name]\n",
    "        T = get_tf_mat(parent_joint[\"origin_rpy\"], parent_joint[\"origin_xyz\"])\n",
    "        T_offset_list.append(T)\n",
    "        link_name = joint_dict[parent_joint_name][\"parent\"]\n",
    "    T_offset_list = T_offset_list[::-1]\n",
    "    return T_offset_list"
   ]
  },
  {
   "cell_type": "code",
   "execution_count": 63,
   "metadata": {},
   "outputs": [],
   "source": [
    "@jax.jit\n",
    "def FK(q, T_offsets):\n",
    "    def yaw_rot_mat(q):\n",
    "        s, c = jnp.sin(q), jnp.cos(q)\n",
    "        mat = jnp.array([[c, -s],[s, c]])\n",
    "        T = jnp.block([[mat, jnp.zeros((2,2))],\n",
    "                    [jnp.zeros((2,2)), jnp.eye(2)]])\n",
    "        return T\n",
    "    \n",
    "    T = jnp.eye(4) #base link\n",
    "    Ts = jnp.zeros((1+len(T_offsets), 4, 4))\n",
    "    Ts = Ts.at[0, :, :].set(T)\n",
    "    \n",
    "    for i in range(7):\n",
    "        T_joint = yaw_rot_mat(q[i])\n",
    "        T = T @ T_offsets[i] @ T_joint\n",
    "        Ts = Ts.at[i+1,:,:].set(T)\n",
    "\n",
    "    for i in range(7, len(T_offsets)):\n",
    "        T = T @ T_offsets[i]\n",
    "        Ts = Ts.at[i+1, :, :].set(T)\n",
    "    return jnp.array(Ts)"
   ]
  },
  {
   "cell_type": "code",
   "execution_count": 64,
   "metadata": {},
   "outputs": [],
   "source": [
    "T_offsets = get_T_offset_lists(link_dict, joint_dict, \"panda_grasptarget\")"
   ]
  },
  {
   "cell_type": "code",
   "execution_count": 8,
   "metadata": {},
   "outputs": [],
   "source": [
    "mesh_path = Path(PANDA_URDF).parent / \"meshes/collision\"\n",
    "meshes = os.listdir(mesh_path)"
   ]
  },
  {
   "cell_type": "code",
   "execution_count": 224,
   "metadata": {},
   "outputs": [
    {
     "name": "stderr",
     "output_type": "stream",
     "text": [
      "concatenating texture: may result in visual artifacts\n"
     ]
    }
   ],
   "source": [
    "link_names = [\"link0.obj\", \"link1.obj\", \"link2.obj\", \"link3.obj\", \"link4.obj\", \"link5.obj\", \"link6.obj\", \"link7.obj\", \"hand.obj\"]\n",
    "link_meshes = [trimesh.load(mesh_path/name) for name in link_names]\n",
    "link_meshes = [mesh if isinstance(mesh, trimesh.Trimesh) else mesh.dump().sum() for mesh in link_meshes]\n",
    "link_meshes_o3d = [mesh.as_open3d for mesh in link_meshes ]\n",
    "for mesh in link_meshes_o3d:\n",
    "    mesh.compute_vertex_normals()\n",
    "    \n",
    "T_list = FK(jnp.zeros(7), T_offsets)\n",
    "for i, mesh in enumerate(link_meshes_o3d):\n",
    "    mesh.transform(T_list[i])"
   ]
  },
  {
   "cell_type": "code",
   "execution_count": 67,
   "metadata": {},
   "outputs": [],
   "source": [
    "#frame = o3d.geometry.TriangleMesh.create_coordinate_frame(0.1)\n",
    "o3d.visualization.draw([mesh for mesh in link_meshes_o3d])"
   ]
  },
  {
   "cell_type": "code",
   "execution_count": 338,
   "metadata": {},
   "outputs": [],
   "source": [
    "class SDF:\n",
    "    def __init__(self, mesh, pad=8):\n",
    "        self.mesh = mesh\n",
    "        self.resolution = 0.01\n",
    "        self.scale = self.mesh.bounding_box.primitive.extents.max()\n",
    "        self.center = self.mesh.bounding_box.primitive.transform[:3, -1]\n",
    "        self.extents = self.mesh.bounding_box.primitive.extents\n",
    "        self.dim = np.ceil(self.scale/self.resolution).astype(int) + pad\n",
    "        self.ub = self.idx_to_xyz(np.ones(3) * (self.dim-1))\n",
    "        self.lb = self.idx_to_xyz(np.zeros(3))\n",
    "    \n",
    "    def get_meshgrid_points(self):\n",
    "        xx = yy = zz = range(self.dim)\n",
    "        X, Y, Z = np.meshgrid(xx, yy, zz, indexing=\"ij\")\n",
    "        idx = np.vstack([X.flatten(), Y.flatten(), Z.flatten()]).T\n",
    "        xyz = (idx - (self.dim-1)/2) * self.resolution + self.center\n",
    "        return xyz\n",
    "    \n",
    "    def gen_sdf_grid(self):\n",
    "        xyz = self.get_meshgrid_points()\n",
    "        d = - self.mesh.nearest.signed_distance(xyz) # our convention\n",
    "        self.D = jnp.array(d.reshape(self.dim, self.dim, -1))\n",
    "    \n",
    "    def idx_to_xyz(self, idx):\n",
    "        return (idx - (self.dim - 1) / 2) * self.resolution + self.center\n",
    "    \n",
    "    def xyz_to_idx(self, xyz):\n",
    "        return (xyz - self.lb) / self.resolution\n",
    "\n",
    "    def get_sd(self, point, obj_pose):\n",
    "        p_obj = apply_transform(Tinv(obj_pose), point)\n",
    "        if not (self.lb < p_obj).all() & (p_obj < self.ub).all() : \n",
    "            return jnp.inf\n",
    "        return interpolate(self.xyz_to_idx(p_obj), self.D)\n",
    "\n",
    "@jax.jit\n",
    "def Tinv(pose):\n",
    "    T = jnp.eye(4)\n",
    "    R, t = pose[:3, :3], pose[:3, -1]\n",
    "    T = T.at[:3, :3].set(R.T)\n",
    "    T = T.at[:3, -1].set(-R.T@t)\n",
    "    return T\n",
    "\n",
    "@jax.jit\n",
    "def apply_transform(T, p):\n",
    "    return T[:3, :3] @ p + T[:3, -1]\n",
    "\n",
    "@jax.jit\n",
    "def interpolate(idx_float, grid):\n",
    "    (xd, yd, zd), whole = jnp.modf(idx_float)\n",
    "    x0, y0, z0 = whole.astype(int)\n",
    "    x1, y1, z1 = x0+1, y0+1, z0+1\n",
    "\n",
    "    # Interpolate along x\n",
    "    c00 = grid[x0, y0, z0] * (1 - xd) + grid[x1, y0, z0] * xd\n",
    "    c01 = grid[x0, y0, z1] * (1 - xd) + grid[x1, y0, z1] * xd\n",
    "    c10 = grid[x0, y1, z0] * (1 - xd) + grid[x1, y1, z0] * xd\n",
    "    c11 = grid[x0, y1, z1] * (1 - xd) + grid[x1, y1, z1] * xd\n",
    "\n",
    "    # Interpolate along y\n",
    "    c0 = c00 * (1 - yd) + c10 * yd\n",
    "    c1 = c01 * (1 - yd) + c11 * yd\n",
    "\n",
    "    # Interpolate along z\n",
    "    return c0 * (1 - zd) + c1 * zd\n",
    "\n",
    "interpolate_batch = jax.vmap(interpolate)"
   ]
  },
  {
   "cell_type": "code",
   "execution_count": 247,
   "metadata": {},
   "outputs": [],
   "source": [
    "link_sdfs = [SDF(link_mesh, interpolate) for link_mesh in link_meshes[:2]]\n",
    "for link_sdf in link_sdfs:\n",
    "    link_sdf.gen_sdf()"
   ]
  },
  {
   "cell_type": "code",
   "execution_count": 375,
   "metadata": {},
   "outputs": [],
   "source": [
    "np.save(\"check.npy\", np.array(link_sdf.D))"
   ]
  },
  {
   "cell_type": "code",
   "execution_count": 288,
   "metadata": {},
   "outputs": [
    {
     "name": "stdout",
     "output_type": "stream",
     "text": [
      "321 µs ± 46.1 µs per loop (mean ± std. dev. of 7 runs, 1,000 loops each)\n"
     ]
    }
   ],
   "source": [
    "%timeit interpolate(jnp.array([2.1, 3.2, 4.3]), sdf.D)"
   ]
  },
  {
   "cell_type": "code",
   "execution_count": 296,
   "metadata": {},
   "outputs": [],
   "source": [
    "sdf = SDF(link_meshes[0])\n",
    "sdf.gen_sdf_grid()"
   ]
  },
  {
   "cell_type": "code",
   "execution_count": 341,
   "metadata": {},
   "outputs": [],
   "source": [
    "point = jnp.array([-0.1,0.1,0.2])\n",
    "T = T_list[0]"
   ]
  },
  {
   "cell_type": "code",
   "execution_count": 348,
   "metadata": {},
   "outputs": [
    {
     "name": "stdout",
     "output_type": "stream",
     "text": [
      "1.01 ms ± 59.4 µs per loop (mean ± std. dev. of 7 runs, 1,000 loops each)\n"
     ]
    }
   ],
   "source": [
    "%timeit apply_transform(Tinv(T_list[0]), point)"
   ]
  },
  {
   "cell_type": "code",
   "execution_count": 360,
   "metadata": {},
   "outputs": [],
   "source": [
    "T_list_np = np.array(T_list)"
   ]
  },
  {
   "cell_type": "code",
   "execution_count": 369,
   "metadata": {},
   "outputs": [
    {
     "name": "stdout",
     "output_type": "stream",
     "text": [
      "3.35 µs ± 471 ns per loop (mean ± std. dev. of 7 runs, 100,000 loops each)\n"
     ]
    }
   ],
   "source": [
    "%timeit T_list_np[0].sum()"
   ]
  },
  {
   "cell_type": "code",
   "execution_count": 370,
   "metadata": {},
   "outputs": [],
   "source": [
    "@jax.jit\n",
    "def indexing(T_list):\n",
    "    return T_list[0].sum()"
   ]
  },
  {
   "cell_type": "code",
   "execution_count": 371,
   "metadata": {},
   "outputs": [
    {
     "name": "stdout",
     "output_type": "stream",
     "text": [
      "7.1 µs ± 163 ns per loop (mean ± std. dev. of 7 runs, 100,000 loops each)\n"
     ]
    }
   ],
   "source": [
    "%timeit indexing(T_list).block_until_ready()"
   ]
  },
  {
   "cell_type": "code",
   "execution_count": 335,
   "metadata": {},
   "outputs": [],
   "source": []
  },
  {
   "cell_type": "code",
   "execution_count": 295,
   "metadata": {},
   "outputs": [
    {
     "name": "stdout",
     "output_type": "stream",
     "text": [
      "1.2 ms ± 82.8 µs per loop (mean ± std. dev. of 7 runs, 1,000 loops each)\n"
     ]
    }
   ],
   "source": [
    "%timeit sdf.get_sd(point, T_list[0])"
   ]
  },
  {
   "cell_type": "code",
   "execution_count": 294,
   "metadata": {},
   "outputs": [],
   "source": []
  },
  {
   "cell_type": "code",
   "execution_count": 270,
   "metadata": {},
   "outputs": [
    {
     "data": {
      "text/plain": [
       "[Array(0.10517403, dtype=float32), Array(0.08644685, dtype=float32)]"
      ]
     },
     "execution_count": 270,
     "metadata": {},
     "output_type": "execute_result"
    }
   ],
   "source": [
    "[sdf.get_sd(point, T) for T, sdf in zip(T_list, link_sdfs)]"
   ]
  },
  {
   "cell_type": "code",
   "execution_count": 220,
   "metadata": {},
   "outputs": [
    {
     "name": "stdout",
     "output_type": "stream",
     "text": [
      "d:None\n"
     ]
    }
   ],
   "source": [
    "T = jnp.array(T_list[0])\n",
    "d = sdf.get_sd(point, T)\n",
    "print(f\"d:{d}\")"
   ]
  },
  {
   "cell_type": "code",
   "execution_count": 254,
   "metadata": {},
   "outputs": [
    {
     "data": {
      "text/plain": [
       "array([0.12002622])"
      ]
     },
     "execution_count": 254,
     "metadata": {},
     "output_type": "execute_result"
    }
   ],
   "source": [
    "- link_meshes[1].copy().apply_transform(T_list[1]).nearest.signed_distance(point[None,:])"
   ]
  },
  {
   "cell_type": "code",
   "execution_count": 251,
   "metadata": {},
   "outputs": [
    {
     "data": {
      "text/plain": [
       "array([0.37154992])"
      ]
     },
     "execution_count": 251,
     "metadata": {},
     "output_type": "execute_result"
    }
   ],
   "source": [
    "\n",
    "- link_meshes[1].nearest.signed_distance(point[None, :])"
   ]
  },
  {
   "cell_type": "code",
   "execution_count": 269,
   "metadata": {},
   "outputs": [],
   "source": [
    "pc = o3d.geometry.PointCloud(o3d.utility.Vector3dVector(sdf.get_meshgrid_points()))\n",
    "frame = o3d.geometry.TriangleMesh.create_coordinate_frame(0.15)\n",
    "frame.translate(sdf.center)\n",
    "sphere = o3d.geometry.TriangleMesh.create_sphere(0.002)\n",
    "sphere.translate(point)\n",
    "o3d.visualization.draw([pc, link_meshes_o3d[0], link_meshes_o3d[1], frame, sphere])"
   ]
  },
  {
   "cell_type": "code",
   "execution_count": 477,
   "metadata": {},
   "outputs": [],
   "source": [
    "R, t = T[:3, :3], T[:3, -1]\n",
    "Tinv = jnp.block([[R.T, -R.T @ t[:,None]],[jnp.zeros(3), 1]])\n",
    "p_obj = (Tinv @ jnp.hstack([point, 1])[:,None])[:3].flatten()"
   ]
  },
  {
   "cell_type": "code",
   "execution_count": 480,
   "metadata": {},
   "outputs": [],
   "source": [
    "frame = o3d.geometry.TriangleMesh.create_coordinate_frame(0.1)\n",
    "sphere = o3d.geometry.TriangleMesh.create_sphere(0.01)\n",
    "sphere.translate(p_obj)\n",
    "mesh_o3d.compute_vertex_normals()\n",
    "o3d.visualization.draw_geometries([mesh_o3d, frame, sphere])"
   ]
  },
  {
   "cell_type": "code",
   "execution_count": null,
   "metadata": {},
   "outputs": [],
   "source": []
  },
  {
   "cell_type": "code",
   "execution_count": 388,
   "metadata": {},
   "outputs": [],
   "source": [
    "xx = jnp.linspace(sdf.lb[0], sdf.ub[0], 1000)\n",
    "yy = jnp.linspace(sdf.lb[1], sdf.ub[1], 1000)\n",
    "z = -0.3\n",
    "X, Y = jnp.meshgrid(xx, yy)\n",
    "points = jnp.hstack([X.reshape(-1, 1), Y.reshape(-1, 1), z*jnp.ones_like(Y.reshape(-1, 1))])\n",
    "D = interpolate_batch(points).reshape(1000, -1)"
   ]
  },
  {
   "cell_type": "code",
   "execution_count": 389,
   "metadata": {},
   "outputs": [
    {
     "data": {
      "text/plain": [
       "<matplotlib.image.AxesImage at 0x7f44cc9eb070>"
      ]
     },
     "execution_count": 389,
     "metadata": {},
     "output_type": "execute_result"
    },
    {
     "data": {
      "image/png": "[encoded data removed]",
      "text/plain": [
       "<Figure size 640x480 with 1 Axes>"
      ]
     },
     "metadata": {},
     "output_type": "display_data"
    }
   ],
   "source": [
    "import matplotlib.pyplot as plt\n",
    "plt.imshow(D)"
   ]
  },
  {
   "cell_type": "code",
   "execution_count": null,
   "metadata": {},
   "outputs": [],
   "source": []
  },
  {
   "cell_type": "code",
   "execution_count": 335,
   "metadata": {},
   "outputs": [
    {
     "data": {
      "text/plain": [
       "array([-0.1599129 , -0.15668058, -0.15344825, -0.15021593, -0.14698361,\n",
       "       -0.14375128, -0.14051896, -0.13728664, -0.13405431, -0.13082199,\n",
       "       -0.12758967, -0.12435734, -0.12112502, -0.1178927 , -0.11466037,\n",
       "       -0.11142805, -0.10819573, -0.10496341, -0.10173108, -0.09849876,\n",
       "       -0.09526644, -0.09203411, -0.08880179, -0.08556947, -0.08233714,\n",
       "       -0.07910482, -0.0758725 , -0.07264017, -0.06940785, -0.06617553,\n",
       "       -0.0629432 , -0.05971088, -0.05647856, -0.05324623, -0.05001391,\n",
       "       -0.04678159, -0.04354926, -0.04031694, -0.03708462, -0.03385229,\n",
       "       -0.03061997, -0.02738765, -0.02415532, -0.020923  , -0.01769068,\n",
       "       -0.01445835, -0.01122603, -0.00799371, -0.00476138, -0.00152906,\n",
       "        0.00170326,  0.00493558,  0.00816791,  0.01140023,  0.01463255,\n",
       "        0.01786488,  0.0210972 ,  0.02432952,  0.02756185,  0.03079417,\n",
       "        0.03402649,  0.03725882,  0.04049114,  0.04372346,  0.04695579,\n",
       "        0.05018811,  0.05342043,  0.05665276,  0.05988508,  0.0631174 ,\n",
       "        0.06634973,  0.06958205,  0.07281437,  0.0760467 ,  0.07927902,\n",
       "        0.08251134,  0.08574367,  0.08897599,  0.09220831,  0.09544064,\n",
       "        0.09867296,  0.10190528,  0.10513761,  0.10836993,  0.11160225,\n",
       "        0.11483457,  0.1180669 ,  0.12129922,  0.12453154,  0.12776387,\n",
       "        0.13099619,  0.13422851,  0.13746084,  0.14069316,  0.14392548,\n",
       "        0.14715781,  0.15039013,  0.15362245,  0.15685478,  0.1600871 ])"
      ]
     },
     "execution_count": 335,
     "metadata": {},
     "output_type": "execute_result"
    }
   ],
   "source": [
    "xx"
   ]
  },
  {
   "cell_type": "code",
   "execution_count": 285,
   "metadata": {},
   "outputs": [],
   "source": [
    "x = np.array([0.0001,0,0])"
   ]
  },
  {
   "cell_type": "code",
   "execution_count": 288,
   "metadata": {},
   "outputs": [],
   "source": []
  },
  {
   "cell_type": "code",
   "execution_count": 314,
   "metadata": {},
   "outputs": [
    {
     "data": {
      "text/plain": [
       "-0.01775656664796271"
      ]
     },
     "execution_count": 314,
     "metadata": {},
     "output_type": "execute_result"
    }
   ],
   "source": []
  },
  {
   "cell_type": "code",
   "execution_count": null,
   "metadata": {},
   "outputs": [],
   "source": []
  },
  {
   "cell_type": "code",
   "execution_count": 322,
   "metadata": {},
   "outputs": [
    {
     "data": {
      "text/plain": [
       "-0.024856344465293796"
      ]
     },
     "execution_count": 322,
     "metadata": {},
     "output_type": "execute_result"
    }
   ],
   "source": [
    "sdf.D[tuple(sdf.xyz_to_idx(x).astype(int))]"
   ]
  },
  {
   "cell_type": "code",
   "execution_count": null,
   "metadata": {},
   "outputs": [],
   "source": []
  },
  {
   "cell_type": "code",
   "execution_count": 260,
   "metadata": {},
   "outputs": [
    {
     "data": {
      "text/plain": [
       "TrackedArray([0.1600871 , 0.12290965, 0.09148455])"
      ]
     },
     "execution_count": 260,
     "metadata": {},
     "output_type": "execute_result"
    }
   ],
   "source": [
    "sdf.ub"
   ]
  },
  {
   "cell_type": "code",
   "execution_count": 208,
   "metadata": {},
   "outputs": [
    {
     "data": {
      "text/plain": [
       "<matplotlib.colorbar.Colorbar at 0x7f488da72fa0>"
      ]
     },
     "execution_count": 208,
     "metadata": {},
     "output_type": "execute_result"
    },
    {
     "data": {
      "image/png": "[encoded data removed]",
      "text/plain": [
       "<Figure size 640x480 with 2 Axes>"
      ]
     },
     "metadata": {},
     "output_type": "display_data"
    }
   ],
   "source": [
    "import matplotlib.pyplot as plt\n",
    "plt.contourf(sdf.D[0])\n",
    "plt.colorbar()"
   ]
  },
  {
   "cell_type": "code",
   "execution_count": null,
   "metadata": {},
   "outputs": [],
   "source": [
    "pc_grid = o3d.geometry.PointCloud(o3d.utility.Vector3dVector(xyz))"
   ]
  },
  {
   "cell_type": "code",
   "execution_count": 174,
   "metadata": {},
   "outputs": [],
   "source": [
    "o3d.visualization.draw_geometries([pc_grid, mesh_o3d])"
   ]
  },
  {
   "cell_type": "code",
   "execution_count": 127,
   "metadata": {},
   "outputs": [],
   "source": []
  },
  {
   "cell_type": "code",
   "execution_count": 133,
   "metadata": {},
   "outputs": [
    {
     "data": {
      "text/plain": [
       "TrackedArray([0.0551612, 0.0551923, 0.0549731])"
      ]
     },
     "execution_count": 133,
     "metadata": {},
     "output_type": "execute_result"
    }
   ],
   "source": [
    "mesh.vertices.max(axis=0)"
   ]
  },
  {
   "cell_type": "code",
   "execution_count": 129,
   "metadata": {},
   "outputs": [
    {
     "data": {
      "text/plain": [
       "TrackedArray([0.0551612, 0.0551923, 0.0549731])"
      ]
     },
     "execution_count": 129,
     "metadata": {},
     "output_type": "execute_result"
    }
   ],
   "source": [
    "center + extents/2"
   ]
  },
  {
   "cell_type": "code",
   "execution_count": 106,
   "metadata": {},
   "outputs": [
    {
     "data": {
      "text/plain": [
       "TrackedArray([-0.054987, -0.129373, -0.192004])"
      ]
     },
     "execution_count": 106,
     "metadata": {},
     "output_type": "execute_result"
    }
   ],
   "source": [
    "mesh.vertices.min(axis=0)"
   ]
  },
  {
   "cell_type": "code",
   "execution_count": 78,
   "metadata": {},
   "outputs": [],
   "source": [
    "sm.remove_frame('link1')"
   ]
  },
  {
   "cell_type": "code",
   "execution_count": 79,
   "metadata": {},
   "outputs": [],
   "source": [
    "sm.view_frame(panda.get_link_pose(0), 'link1', length=1)"
   ]
  },
  {
   "cell_type": "code",
   "execution_count": 72,
   "metadata": {},
   "outputs": [],
   "source": [
    "pc_mesh.paint_uniform_color([0,0,0])\n",
    "origin = np.array([-1,1,-1])  #np.array([0,0,0]) \n",
    "\n",
    "direction = np.asarray(pc_mesh.points)[idx[0]] - origin\n",
    "np.asarray(pc_mesh.colors)[idx[0], :] = [1,0,0]"
   ]
  },
  {
   "cell_type": "code",
   "execution_count": 96,
   "metadata": {},
   "outputs": [
    {
     "data": {
      "text/plain": [
       "array([-0.054987, -0.129373, -0.192004])"
      ]
     },
     "execution_count": 96,
     "metadata": {},
     "output_type": "execute_result"
    }
   ],
   "source": [
    "np.asarray(mesh_o3d.vertices).min(axis=0)"
   ]
  },
  {
   "cell_type": "code",
   "execution_count": 73,
   "metadata": {},
   "outputs": [
    {
     "data": {
      "text/plain": [
       "(array([[ 0.05139552, -0.04473941, -0.11913372],\n",
       "        [-0.03557714,  0.04168265, -0.192     ]]),\n",
       " array([0, 0]),\n",
       " array([ 58, 292]))"
      ]
     },
     "execution_count": 73,
     "metadata": {},
     "output_type": "execute_result"
    }
   ],
   "source": [
    "mesh.ray.intersects_location(ray_origins=origin[None,:], ray_directions=direction[None,:])"
   ]
  },
  {
   "cell_type": "code",
   "execution_count": 80,
   "metadata": {},
   "outputs": [],
   "source": [
    "axis = o3d.geometry.TriangleMesh.create_coordinate_frame(0.1)\n",
    "o3d.visualization.draw_geometries([pc_mesh, axis])"
   ]
  }
 ],
 "metadata": {
  "kernelspec": {
   "display_name": "cu11",
   "language": "python",
   "name": "python3"
  },
  "language_info": {
   "codemirror_mode": {
    "name": "ipython",
    "version": 3
   },
   "file_extension": ".py",
   "mimetype": "text/x-python",
   "name": "python",
   "nbconvert_exporter": "python",
   "pygments_lexer": "ipython3",
   "version": "3.8.15"
  },
  "orig_nbformat": 4
 },
 "nbformat": 4,
 "nbformat_minor": 2
}
